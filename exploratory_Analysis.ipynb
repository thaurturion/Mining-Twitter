{
 "cells": [
  {
   "cell_type": "code",
   "execution_count": 2,
   "metadata": {
    "collapsed": true
   },
   "outputs": [],
   "source": [
    "# Import stuff"
   ]
  },
  {
   "cell_type": "code",
   "execution_count": 1,
   "metadata": {
    "collapsed": false
   },
   "outputs": [],
   "source": [
    "%matplotlib inline \n",
    "import pandas as pd\n",
    "import numpy as np\n",
    "import matplotlib.pyplot as plt\n",
    "import matplotlib\n",
    "import seaborn as sns\n",
    "import re\n",
    "\n",
    "from nltk.tokenize import word_tokenize\n",
    "import twokenize\n",
    "matplotlib.style.use('ggplot')\n",
    "pd.options.display.max_colwidth = 100"
   ]
  },
  {
   "cell_type": "markdown",
   "metadata": {},
   "source": [
    "# ReadFile in"
   ]
  },
  {
   "cell_type": "code",
   "execution_count": 2,
   "metadata": {
    "collapsed": false,
    "scrolled": true
   },
   "outputs": [],
   "source": [
    "directory = \"data/crawled-tweets/\"\n",
    "filename = \"master-11-07-2016.csv\"\n",
    "src_file = directory+filename\n",
    "\n",
    "df = pd.read_csv(src_file, names=[\"User\", \"timestamp_ms\", \"tweet\", \"longitude\", \"latitude\", \"retweet_count\", \"favorite_count\", \"flag\"])\n",
    "    "
   ]
  },
  {
   "cell_type": "code",
   "execution_count": 3,
   "metadata": {
    "collapsed": false
   },
   "outputs": [
    {
     "data": {
      "text/html": [
       "<div>\n",
       "<table border=\"1\" class=\"dataframe\">\n",
       "  <thead>\n",
       "    <tr style=\"text-align: right;\">\n",
       "      <th></th>\n",
       "      <th>User</th>\n",
       "      <th>timestamp_ms</th>\n",
       "      <th>tweet</th>\n",
       "      <th>longitude</th>\n",
       "      <th>latitude</th>\n",
       "      <th>retweet_count</th>\n",
       "      <th>favorite_count</th>\n",
       "      <th>flag</th>\n",
       "    </tr>\n",
       "  </thead>\n",
       "  <tbody>\n",
       "    <tr>\n",
       "      <th>0</th>\n",
       "      <td>123790755</td>\n",
       "      <td>1467376528316</td>\n",
       "      <td>#thedreamhunter is now trending in #London https://t.co/K1m5a2DSnm</td>\n",
       "      <td>-0.163024</td>\n",
       "      <td>51.511755</td>\n",
       "      <td>0</td>\n",
       "      <td>0</td>\n",
       "      <td>2</td>\n",
       "    </tr>\n",
       "    <tr>\n",
       "      <th>1</th>\n",
       "      <td>1442442398</td>\n",
       "      <td>1467376529077</td>\n",
       "      <td>@connoroneil__ cheers buddy X</td>\n",
       "      <td>-3.032089</td>\n",
       "      <td>53.841189</td>\n",
       "      <td>0</td>\n",
       "      <td>0</td>\n",
       "      <td>2</td>\n",
       "    </tr>\n",
       "    <tr>\n",
       "      <th>2</th>\n",
       "      <td>298585296</td>\n",
       "      <td>1467376529203</td>\n",
       "      <td>I love when Del Potro gets behind a forehand. He can just destroy a tennis ball.</td>\n",
       "      <td>-2.298134</td>\n",
       "      <td>52.847090</td>\n",
       "      <td>0</td>\n",
       "      <td>0</td>\n",
       "      <td>2</td>\n",
       "    </tr>\n",
       "    <tr>\n",
       "      <th>3</th>\n",
       "      <td>28834284</td>\n",
       "      <td>1467376529113</td>\n",
       "      <td>Well this is confusing https://t.co/uouPRGfeYw</td>\n",
       "      <td>-0.186833</td>\n",
       "      <td>51.127727</td>\n",
       "      <td>0</td>\n",
       "      <td>0</td>\n",
       "      <td>2</td>\n",
       "    </tr>\n",
       "    <tr>\n",
       "      <th>4</th>\n",
       "      <td>27009134</td>\n",
       "      <td>1467376529303</td>\n",
       "      <td>The Vaccines and Stereophonics at Kilmainham @ Royal Hospital Kilmainham https://t.co/vjaRRnDpWW</td>\n",
       "      <td>-6.300177</td>\n",
       "      <td>53.343303</td>\n",
       "      <td>0</td>\n",
       "      <td>0</td>\n",
       "      <td>1</td>\n",
       "    </tr>\n",
       "    <tr>\n",
       "      <th>5</th>\n",
       "      <td>49985646</td>\n",
       "      <td>1467376529400</td>\n",
       "      <td>End of an era at United. Giggs is set to leave. #tearingthemapart</td>\n",
       "      <td>-3.143354</td>\n",
       "      <td>51.669456</td>\n",
       "      <td>0</td>\n",
       "      <td>0</td>\n",
       "      <td>2</td>\n",
       "    </tr>\n",
       "    <tr>\n",
       "      <th>6</th>\n",
       "      <td>4658015859</td>\n",
       "      <td>1467376529390</td>\n",
       "      <td>++ProToniX radio!⚡️ This weekend, packed with dope segments😁 &amp;amp; music😝 @ London, United Kingd...</td>\n",
       "      <td>-0.127318</td>\n",
       "      <td>51.507115</td>\n",
       "      <td>0</td>\n",
       "      <td>0</td>\n",
       "      <td>1</td>\n",
       "    </tr>\n",
       "    <tr>\n",
       "      <th>7</th>\n",
       "      <td>421976071</td>\n",
       "      <td>1467376529514</td>\n",
       "      <td>@archiebald06 cost us £30 each more but fuck it!</td>\n",
       "      <td>1.302505</td>\n",
       "      <td>51.132408</td>\n",
       "      <td>0</td>\n",
       "      <td>0</td>\n",
       "      <td>2</td>\n",
       "    </tr>\n",
       "    <tr>\n",
       "      <th>8</th>\n",
       "      <td>409357313</td>\n",
       "      <td>1467376529910</td>\n",
       "      <td>@jaydevDevlin it's only a small get together...</td>\n",
       "      <td>-6.247621</td>\n",
       "      <td>53.354903</td>\n",
       "      <td>0</td>\n",
       "      <td>0</td>\n",
       "      <td>2</td>\n",
       "    </tr>\n",
       "    <tr>\n",
       "      <th>9</th>\n",
       "      <td>152766660</td>\n",
       "      <td>1467376529870</td>\n",
       "      <td>@mshgodwin I'm thinking the second option, what do you think?</td>\n",
       "      <td>-2.803055</td>\n",
       "      <td>55.615368</td>\n",
       "      <td>0</td>\n",
       "      <td>0</td>\n",
       "      <td>2</td>\n",
       "    </tr>\n",
       "  </tbody>\n",
       "</table>\n",
       "</div>"
      ],
      "text/plain": [
       "         User   timestamp_ms  \\\n",
       "0   123790755  1467376528316   \n",
       "1  1442442398  1467376529077   \n",
       "2   298585296  1467376529203   \n",
       "3    28834284  1467376529113   \n",
       "4    27009134  1467376529303   \n",
       "5    49985646  1467376529400   \n",
       "6  4658015859  1467376529390   \n",
       "7   421976071  1467376529514   \n",
       "8   409357313  1467376529910   \n",
       "9   152766660  1467376529870   \n",
       "\n",
       "                                                                                                 tweet  \\\n",
       "0                                   #thedreamhunter is now trending in #London https://t.co/K1m5a2DSnm   \n",
       "1                                                                        @connoroneil__ cheers buddy X   \n",
       "2                     I love when Del Potro gets behind a forehand. He can just destroy a tennis ball.   \n",
       "3                                                       Well this is confusing https://t.co/uouPRGfeYw   \n",
       "4     The Vaccines and Stereophonics at Kilmainham @ Royal Hospital Kilmainham https://t.co/vjaRRnDpWW   \n",
       "5                                    End of an era at United. Giggs is set to leave. #tearingthemapart   \n",
       "6  ++ProToniX radio!⚡️ This weekend, packed with dope segments😁 &amp; music😝 @ London, United Kingd...   \n",
       "7                                                     @archiebald06 cost us £30 each more but fuck it!   \n",
       "8                                                      @jaydevDevlin it's only a small get together...   \n",
       "9                                        @mshgodwin I'm thinking the second option, what do you think?   \n",
       "\n",
       "   longitude   latitude  retweet_count  favorite_count  flag  \n",
       "0  -0.163024  51.511755              0               0     2  \n",
       "1  -3.032089  53.841189              0               0     2  \n",
       "2  -2.298134  52.847090              0               0     2  \n",
       "3  -0.186833  51.127727              0               0     2  \n",
       "4  -6.300177  53.343303              0               0     1  \n",
       "5  -3.143354  51.669456              0               0     2  \n",
       "6  -0.127318  51.507115              0               0     1  \n",
       "7   1.302505  51.132408              0               0     2  \n",
       "8  -6.247621  53.354903              0               0     2  \n",
       "9  -2.803055  55.615368              0               0     2  "
      ]
     },
     "execution_count": 3,
     "metadata": {},
     "output_type": "execute_result"
    }
   ],
   "source": [
    "df.head(10)"
   ]
  },
  {
   "cell_type": "code",
   "execution_count": 4,
   "metadata": {
    "collapsed": true
   },
   "outputs": [],
   "source": [
    "from nltk.stem.porter import PorterStemmer\n",
    "from nltk.corpus import stopwords\n",
    "\n",
    "def preprocess(data, tokenizingFunction):\n",
    "    tweet = data.lower()\n",
    "    #remove URLs\n",
    "    tweet = re.sub(r\"http\\S+\", \" \", tweet)\n",
    "    #remove Usernames\n",
    "    tweet = re.sub(r\"\\@\\S+\", \" \", tweet)\n",
    "    #remove multiple blanks\n",
    "    tweet = re.sub(' +',' ', tweet)\n",
    "    #remove elongated elements of words\n",
    "    tweet = re.sub('(.)\\1{2,}','\\1\\1\\1', tweet) \n",
    "    \n",
    "    if callable(tokenizingFunction):\n",
    "        tweet = tokenizingFunction(tweet)\n",
    "    else:\n",
    "        tweet = tweet.split()\n",
    "    \n",
    "    #remove those words were it's highly likely to encounter a bot\n",
    "    spamWords =  {\"mph\", \"hire\", \"watt\", \"ktt\", \"watt\", \"watts\", \"kts\", \"hiring\", \"bestbroadband\", \"barometer\"}    \n",
    "    stops = set.union(set(stopwords.words(\"english\")), spamWords)\n",
    "    tweet = [w for w in tweet if not w in stops and len(w) > 1] \n",
    "    \n",
    "    #disable porter stemmer\n",
    "    #porter_stemmer = PorterStemmer()\n",
    "    #stemmed = []\n",
    "    #for word in tweet: \n",
    "    #    stemmed.append(porter_stemmer.stem(word))\n",
    "    #tweet = stemmed\n",
    "    \n",
    "    return tweet"
   ]
  },
  {
   "cell_type": "code",
   "execution_count": 5,
   "metadata": {
    "collapsed": false
   },
   "outputs": [
    {
     "ename": "KeyboardInterrupt",
     "evalue": "",
     "output_type": "error",
     "traceback": [
      "\u001b[0;31m---------------------------------------------------------------------------\u001b[0m",
      "\u001b[0;31mKeyboardInterrupt\u001b[0m                         Traceback (most recent call last)",
      "\u001b[0;32m<ipython-input-5-f60c52a2eccf>\u001b[0m in \u001b[0;36m<module>\u001b[0;34m()\u001b[0m\n\u001b[0;32m----> 1\u001b[0;31m \u001b[0mlengthsOfTweets\u001b[0m \u001b[0;34m=\u001b[0m \u001b[0mdf\u001b[0m\u001b[0;34m[\u001b[0m\u001b[0;34m\"tweet\"\u001b[0m\u001b[0;34m]\u001b[0m\u001b[0;34m.\u001b[0m\u001b[0mapply\u001b[0m\u001b[0;34m(\u001b[0m\u001b[0mpreprocess\u001b[0m\u001b[0;34m,\u001b[0m \u001b[0margs\u001b[0m\u001b[0;34m=\u001b[0m\u001b[0;34m(\u001b[0m\u001b[0mword_tokenize\u001b[0m\u001b[0;34m,\u001b[0m\u001b[0;34m)\u001b[0m\u001b[0;34m)\u001b[0m\u001b[0;34m.\u001b[0m\u001b[0mstr\u001b[0m\u001b[0;34m.\u001b[0m\u001b[0mlen\u001b[0m\u001b[0;34m(\u001b[0m\u001b[0;34m)\u001b[0m\u001b[0;34m\u001b[0m\u001b[0m\n\u001b[0m",
      "\u001b[0;32m/Users/fabian/anaconda/envs/py35/lib/python3.5/site-packages/pandas/core/series.py\u001b[0m in \u001b[0;36mapply\u001b[0;34m(self, func, convert_dtype, args, **kwds)\u001b[0m\n\u001b[1;32m   2167\u001b[0m             \u001b[0mvalues\u001b[0m \u001b[0;34m=\u001b[0m \u001b[0mlib\u001b[0m\u001b[0;34m.\u001b[0m\u001b[0mmap_infer\u001b[0m\u001b[0;34m(\u001b[0m\u001b[0mvalues\u001b[0m\u001b[0;34m,\u001b[0m \u001b[0mlib\u001b[0m\u001b[0;34m.\u001b[0m\u001b[0mTimestamp\u001b[0m\u001b[0;34m)\u001b[0m\u001b[0;34m\u001b[0m\u001b[0m\n\u001b[1;32m   2168\u001b[0m \u001b[0;34m\u001b[0m\u001b[0m\n\u001b[0;32m-> 2169\u001b[0;31m         \u001b[0mmapped\u001b[0m \u001b[0;34m=\u001b[0m \u001b[0mlib\u001b[0m\u001b[0;34m.\u001b[0m\u001b[0mmap_infer\u001b[0m\u001b[0;34m(\u001b[0m\u001b[0mvalues\u001b[0m\u001b[0;34m,\u001b[0m \u001b[0mf\u001b[0m\u001b[0;34m,\u001b[0m \u001b[0mconvert\u001b[0m\u001b[0;34m=\u001b[0m\u001b[0mconvert_dtype\u001b[0m\u001b[0;34m)\u001b[0m\u001b[0;34m\u001b[0m\u001b[0m\n\u001b[0m\u001b[1;32m   2170\u001b[0m         \u001b[0;32mif\u001b[0m \u001b[0mlen\u001b[0m\u001b[0;34m(\u001b[0m\u001b[0mmapped\u001b[0m\u001b[0;34m)\u001b[0m \u001b[0;32mand\u001b[0m \u001b[0misinstance\u001b[0m\u001b[0;34m(\u001b[0m\u001b[0mmapped\u001b[0m\u001b[0;34m[\u001b[0m\u001b[0;36m0\u001b[0m\u001b[0;34m]\u001b[0m\u001b[0;34m,\u001b[0m \u001b[0mSeries\u001b[0m\u001b[0;34m)\u001b[0m\u001b[0;34m:\u001b[0m\u001b[0;34m\u001b[0m\u001b[0m\n\u001b[1;32m   2171\u001b[0m             \u001b[0;32mfrom\u001b[0m \u001b[0mpandas\u001b[0m\u001b[0;34m.\u001b[0m\u001b[0mcore\u001b[0m\u001b[0;34m.\u001b[0m\u001b[0mframe\u001b[0m \u001b[0;32mimport\u001b[0m \u001b[0mDataFrame\u001b[0m\u001b[0;34m\u001b[0m\u001b[0m\n",
      "\u001b[0;32mpandas/src/inference.pyx\u001b[0m in \u001b[0;36mpandas.lib.map_infer (pandas/lib.c:62578)\u001b[0;34m()\u001b[0m\n",
      "\u001b[0;32m/Users/fabian/anaconda/envs/py35/lib/python3.5/site-packages/pandas/core/series.py\u001b[0m in \u001b[0;36m<lambda>\u001b[0;34m(x)\u001b[0m\n\u001b[1;32m   2156\u001b[0m \u001b[0;34m\u001b[0m\u001b[0m\n\u001b[1;32m   2157\u001b[0m         \u001b[0;32mif\u001b[0m \u001b[0mkwds\u001b[0m \u001b[0;32mor\u001b[0m \u001b[0margs\u001b[0m \u001b[0;32mand\u001b[0m \u001b[0;32mnot\u001b[0m \u001b[0misinstance\u001b[0m\u001b[0;34m(\u001b[0m\u001b[0mfunc\u001b[0m\u001b[0;34m,\u001b[0m \u001b[0mnp\u001b[0m\u001b[0;34m.\u001b[0m\u001b[0mufunc\u001b[0m\u001b[0;34m)\u001b[0m\u001b[0;34m:\u001b[0m\u001b[0;34m\u001b[0m\u001b[0m\n\u001b[0;32m-> 2158\u001b[0;31m             \u001b[0mf\u001b[0m \u001b[0;34m=\u001b[0m \u001b[0;32mlambda\u001b[0m \u001b[0mx\u001b[0m\u001b[0;34m:\u001b[0m \u001b[0mfunc\u001b[0m\u001b[0;34m(\u001b[0m\u001b[0mx\u001b[0m\u001b[0;34m,\u001b[0m \u001b[0;34m*\u001b[0m\u001b[0margs\u001b[0m\u001b[0;34m,\u001b[0m \u001b[0;34m**\u001b[0m\u001b[0mkwds\u001b[0m\u001b[0;34m)\u001b[0m\u001b[0;34m\u001b[0m\u001b[0m\n\u001b[0m\u001b[1;32m   2159\u001b[0m         \u001b[0;32melse\u001b[0m\u001b[0;34m:\u001b[0m\u001b[0;34m\u001b[0m\u001b[0m\n\u001b[1;32m   2160\u001b[0m             \u001b[0mf\u001b[0m \u001b[0;34m=\u001b[0m \u001b[0mfunc\u001b[0m\u001b[0;34m\u001b[0m\u001b[0m\n",
      "\u001b[0;32m<ipython-input-4-e3e46645ba89>\u001b[0m in \u001b[0;36mpreprocess\u001b[0;34m(data, tokenizingFunction)\u001b[0m\n\u001b[1;32m      8\u001b[0m     \u001b[0mtweet\u001b[0m \u001b[0;34m=\u001b[0m \u001b[0mre\u001b[0m\u001b[0;34m.\u001b[0m\u001b[0msub\u001b[0m\u001b[0;34m(\u001b[0m\u001b[0;34m' +'\u001b[0m\u001b[0;34m,\u001b[0m\u001b[0;34m' '\u001b[0m\u001b[0;34m,\u001b[0m \u001b[0mtweet\u001b[0m\u001b[0;34m)\u001b[0m\u001b[0;34m\u001b[0m\u001b[0m\n\u001b[1;32m      9\u001b[0m     \u001b[0;32mif\u001b[0m \u001b[0mcallable\u001b[0m\u001b[0;34m(\u001b[0m\u001b[0mtokenizingFunction\u001b[0m\u001b[0;34m)\u001b[0m\u001b[0;34m:\u001b[0m\u001b[0;34m\u001b[0m\u001b[0m\n\u001b[0;32m---> 10\u001b[0;31m         \u001b[0mtweet\u001b[0m \u001b[0;34m=\u001b[0m \u001b[0mtokenizingFunction\u001b[0m\u001b[0;34m(\u001b[0m\u001b[0mtweet\u001b[0m\u001b[0;34m)\u001b[0m\u001b[0;34m\u001b[0m\u001b[0m\n\u001b[0m\u001b[1;32m     11\u001b[0m     \u001b[0;32melse\u001b[0m\u001b[0;34m:\u001b[0m\u001b[0;34m\u001b[0m\u001b[0m\n\u001b[1;32m     12\u001b[0m         \u001b[0mtweet\u001b[0m \u001b[0;34m=\u001b[0m \u001b[0mtweet\u001b[0m\u001b[0;34m.\u001b[0m\u001b[0msplit\u001b[0m\u001b[0;34m(\u001b[0m\u001b[0;34m)\u001b[0m\u001b[0;34m\u001b[0m\u001b[0m\n",
      "\u001b[0;32m/Users/fabian/anaconda/envs/py35/lib/python3.5/site-packages/nltk/tokenize/__init__.py\u001b[0m in \u001b[0;36mword_tokenize\u001b[0;34m(text, language)\u001b[0m\n\u001b[1;32m    102\u001b[0m     \u001b[0;34m:\u001b[0m\u001b[0mparam\u001b[0m \u001b[0mlanguage\u001b[0m\u001b[0;34m:\u001b[0m \u001b[0mthe\u001b[0m \u001b[0mmodel\u001b[0m \u001b[0mname\u001b[0m \u001b[0;32min\u001b[0m \u001b[0mthe\u001b[0m \u001b[0mPunkt\u001b[0m \u001b[0mcorpus\u001b[0m\u001b[0;34m\u001b[0m\u001b[0m\n\u001b[1;32m    103\u001b[0m     \"\"\"\n\u001b[0;32m--> 104\u001b[0;31m     return [token for sent in sent_tokenize(text, language)\n\u001b[0m\u001b[1;32m    105\u001b[0m             for token in _treebank_word_tokenize(sent)]\n\u001b[1;32m    106\u001b[0m \u001b[0;34m\u001b[0m\u001b[0m\n",
      "\u001b[0;32m/Users/fabian/anaconda/envs/py35/lib/python3.5/site-packages/nltk/tokenize/__init__.py\u001b[0m in \u001b[0;36m<listcomp>\u001b[0;34m(.0)\u001b[0m\n\u001b[1;32m    103\u001b[0m     \"\"\"\n\u001b[1;32m    104\u001b[0m     return [token for sent in sent_tokenize(text, language)\n\u001b[0;32m--> 105\u001b[0;31m             for token in _treebank_word_tokenize(sent)]\n\u001b[0m\u001b[1;32m    106\u001b[0m \u001b[0;34m\u001b[0m\u001b[0m\n",
      "\u001b[0;32m/Users/fabian/anaconda/envs/py35/lib/python3.5/site-packages/nltk/tokenize/treebank.py\u001b[0m in \u001b[0;36mtokenize\u001b[0;34m(self, text)\u001b[0m\n\u001b[1;32m     62\u001b[0m     \u001b[0;32mdef\u001b[0m \u001b[0mtokenize\u001b[0m\u001b[0;34m(\u001b[0m\u001b[0mself\u001b[0m\u001b[0;34m,\u001b[0m \u001b[0mtext\u001b[0m\u001b[0;34m)\u001b[0m\u001b[0;34m:\u001b[0m\u001b[0;34m\u001b[0m\u001b[0m\n\u001b[1;32m     63\u001b[0m         \u001b[0;31m#starting quotes\u001b[0m\u001b[0;34m\u001b[0m\u001b[0;34m\u001b[0m\u001b[0m\n\u001b[0;32m---> 64\u001b[0;31m         \u001b[0mtext\u001b[0m \u001b[0;34m=\u001b[0m \u001b[0mre\u001b[0m\u001b[0;34m.\u001b[0m\u001b[0msub\u001b[0m\u001b[0;34m(\u001b[0m\u001b[0;34mr'^\\\"'\u001b[0m\u001b[0;34m,\u001b[0m \u001b[0;34mr'``'\u001b[0m\u001b[0;34m,\u001b[0m \u001b[0mtext\u001b[0m\u001b[0;34m)\u001b[0m\u001b[0;34m\u001b[0m\u001b[0m\n\u001b[0m\u001b[1;32m     65\u001b[0m         \u001b[0mtext\u001b[0m \u001b[0;34m=\u001b[0m \u001b[0mre\u001b[0m\u001b[0;34m.\u001b[0m\u001b[0msub\u001b[0m\u001b[0;34m(\u001b[0m\u001b[0;34mr'(``)'\u001b[0m\u001b[0;34m,\u001b[0m \u001b[0;34mr' \\1 '\u001b[0m\u001b[0;34m,\u001b[0m \u001b[0mtext\u001b[0m\u001b[0;34m)\u001b[0m\u001b[0;34m\u001b[0m\u001b[0m\n\u001b[1;32m     66\u001b[0m         \u001b[0mtext\u001b[0m \u001b[0;34m=\u001b[0m \u001b[0mre\u001b[0m\u001b[0;34m.\u001b[0m\u001b[0msub\u001b[0m\u001b[0;34m(\u001b[0m\u001b[0;34mr'([ (\\[{<])\"'\u001b[0m\u001b[0;34m,\u001b[0m \u001b[0;34mr'\\1 `` '\u001b[0m\u001b[0;34m,\u001b[0m \u001b[0mtext\u001b[0m\u001b[0;34m)\u001b[0m\u001b[0;34m\u001b[0m\u001b[0m\n",
      "\u001b[0;32m/Users/fabian/anaconda/envs/py35/lib/python3.5/re.py\u001b[0m in \u001b[0;36msub\u001b[0;34m(pattern, repl, string, count, flags)\u001b[0m\n\u001b[1;32m    180\u001b[0m     \u001b[0ma\u001b[0m \u001b[0mcallable\u001b[0m\u001b[0;34m,\u001b[0m \u001b[0mit\u001b[0m\u001b[0;31m'\u001b[0m\u001b[0ms\u001b[0m \u001b[0mpassed\u001b[0m \u001b[0mthe\u001b[0m \u001b[0mmatch\u001b[0m \u001b[0mobject\u001b[0m \u001b[0;32mand\u001b[0m \u001b[0mmust\u001b[0m \u001b[0;32mreturn\u001b[0m\u001b[0;34m\u001b[0m\u001b[0m\n\u001b[1;32m    181\u001b[0m     a replacement string to be used.\"\"\"\n\u001b[0;32m--> 182\u001b[0;31m     \u001b[0;32mreturn\u001b[0m \u001b[0m_compile\u001b[0m\u001b[0;34m(\u001b[0m\u001b[0mpattern\u001b[0m\u001b[0;34m,\u001b[0m \u001b[0mflags\u001b[0m\u001b[0;34m)\u001b[0m\u001b[0;34m.\u001b[0m\u001b[0msub\u001b[0m\u001b[0;34m(\u001b[0m\u001b[0mrepl\u001b[0m\u001b[0;34m,\u001b[0m \u001b[0mstring\u001b[0m\u001b[0;34m,\u001b[0m \u001b[0mcount\u001b[0m\u001b[0;34m)\u001b[0m\u001b[0;34m\u001b[0m\u001b[0m\n\u001b[0m\u001b[1;32m    183\u001b[0m \u001b[0;34m\u001b[0m\u001b[0m\n\u001b[1;32m    184\u001b[0m \u001b[0;32mdef\u001b[0m \u001b[0msubn\u001b[0m\u001b[0;34m(\u001b[0m\u001b[0mpattern\u001b[0m\u001b[0;34m,\u001b[0m \u001b[0mrepl\u001b[0m\u001b[0;34m,\u001b[0m \u001b[0mstring\u001b[0m\u001b[0;34m,\u001b[0m \u001b[0mcount\u001b[0m\u001b[0;34m=\u001b[0m\u001b[0;36m0\u001b[0m\u001b[0;34m,\u001b[0m \u001b[0mflags\u001b[0m\u001b[0;34m=\u001b[0m\u001b[0;36m0\u001b[0m\u001b[0;34m)\u001b[0m\u001b[0;34m:\u001b[0m\u001b[0;34m\u001b[0m\u001b[0m\n",
      "\u001b[0;31mKeyboardInterrupt\u001b[0m: "
     ]
    }
   ],
   "source": [
    "lengthsOfTweets = df[\"tweet\"].apply(preprocess, args=(word_tokenize,)).str.len()"
   ]
  },
  {
   "cell_type": "code",
   "execution_count": 49,
   "metadata": {
    "collapsed": false
   },
   "outputs": [
    {
     "ename": "AttributeError",
     "evalue": "'list' object has no attribute 'lower'",
     "output_type": "error",
     "traceback": [
      "\u001b[0;31m---------------------------------------------------------------------------\u001b[0m",
      "\u001b[0;31mAttributeError\u001b[0m                            Traceback (most recent call last)",
      "\u001b[0;32m<ipython-input-49-188a269c64cc>\u001b[0m in \u001b[0;36m<module>\u001b[0;34m()\u001b[0m\n\u001b[0;32m----> 1\u001b[0;31m \u001b[0mTwoklengthsOfTweets\u001b[0m \u001b[0;34m=\u001b[0m \u001b[0mdf\u001b[0m\u001b[0;34m[\u001b[0m\u001b[0;34m\"tweet\"\u001b[0m\u001b[0;34m]\u001b[0m\u001b[0;34m.\u001b[0m\u001b[0mapply\u001b[0m\u001b[0;34m(\u001b[0m\u001b[0mpreprocess\u001b[0m\u001b[0;34m,\u001b[0m \u001b[0margs\u001b[0m\u001b[0;34m=\u001b[0m\u001b[0;34m(\u001b[0m\u001b[0mtwokenize\u001b[0m\u001b[0;34m.\u001b[0m\u001b[0mtokenize\u001b[0m\u001b[0;34m,\u001b[0m\u001b[0;34m)\u001b[0m\u001b[0;34m)\u001b[0m\u001b[0;34m.\u001b[0m\u001b[0mstr\u001b[0m\u001b[0;34m.\u001b[0m\u001b[0mlen\u001b[0m\u001b[0;34m(\u001b[0m\u001b[0;34m)\u001b[0m\u001b[0;34m\u001b[0m\u001b[0m\n\u001b[0m",
      "\u001b[0;32m/Users/fabian/anaconda/envs/py35/lib/python3.5/site-packages/pandas/core/series.py\u001b[0m in \u001b[0;36mapply\u001b[0;34m(self, func, convert_dtype, args, **kwds)\u001b[0m\n\u001b[1;32m   2167\u001b[0m             \u001b[0mvalues\u001b[0m \u001b[0;34m=\u001b[0m \u001b[0mlib\u001b[0m\u001b[0;34m.\u001b[0m\u001b[0mmap_infer\u001b[0m\u001b[0;34m(\u001b[0m\u001b[0mvalues\u001b[0m\u001b[0;34m,\u001b[0m \u001b[0mlib\u001b[0m\u001b[0;34m.\u001b[0m\u001b[0mTimestamp\u001b[0m\u001b[0;34m)\u001b[0m\u001b[0;34m\u001b[0m\u001b[0m\n\u001b[1;32m   2168\u001b[0m \u001b[0;34m\u001b[0m\u001b[0m\n\u001b[0;32m-> 2169\u001b[0;31m         \u001b[0mmapped\u001b[0m \u001b[0;34m=\u001b[0m \u001b[0mlib\u001b[0m\u001b[0;34m.\u001b[0m\u001b[0mmap_infer\u001b[0m\u001b[0;34m(\u001b[0m\u001b[0mvalues\u001b[0m\u001b[0;34m,\u001b[0m \u001b[0mf\u001b[0m\u001b[0;34m,\u001b[0m \u001b[0mconvert\u001b[0m\u001b[0;34m=\u001b[0m\u001b[0mconvert_dtype\u001b[0m\u001b[0;34m)\u001b[0m\u001b[0;34m\u001b[0m\u001b[0m\n\u001b[0m\u001b[1;32m   2170\u001b[0m         \u001b[0;32mif\u001b[0m \u001b[0mlen\u001b[0m\u001b[0;34m(\u001b[0m\u001b[0mmapped\u001b[0m\u001b[0;34m)\u001b[0m \u001b[0;32mand\u001b[0m \u001b[0misinstance\u001b[0m\u001b[0;34m(\u001b[0m\u001b[0mmapped\u001b[0m\u001b[0;34m[\u001b[0m\u001b[0;36m0\u001b[0m\u001b[0;34m]\u001b[0m\u001b[0;34m,\u001b[0m \u001b[0mSeries\u001b[0m\u001b[0;34m)\u001b[0m\u001b[0;34m:\u001b[0m\u001b[0;34m\u001b[0m\u001b[0m\n\u001b[1;32m   2171\u001b[0m             \u001b[0;32mfrom\u001b[0m \u001b[0mpandas\u001b[0m\u001b[0;34m.\u001b[0m\u001b[0mcore\u001b[0m\u001b[0;34m.\u001b[0m\u001b[0mframe\u001b[0m \u001b[0;32mimport\u001b[0m \u001b[0mDataFrame\u001b[0m\u001b[0;34m\u001b[0m\u001b[0m\n",
      "\u001b[0;32mpandas/src/inference.pyx\u001b[0m in \u001b[0;36mpandas.lib.map_infer (pandas/lib.c:62578)\u001b[0;34m()\u001b[0m\n",
      "\u001b[0;32m/Users/fabian/anaconda/envs/py35/lib/python3.5/site-packages/pandas/core/series.py\u001b[0m in \u001b[0;36m<lambda>\u001b[0;34m(x)\u001b[0m\n\u001b[1;32m   2156\u001b[0m \u001b[0;34m\u001b[0m\u001b[0m\n\u001b[1;32m   2157\u001b[0m         \u001b[0;32mif\u001b[0m \u001b[0mkwds\u001b[0m \u001b[0;32mor\u001b[0m \u001b[0margs\u001b[0m \u001b[0;32mand\u001b[0m \u001b[0;32mnot\u001b[0m \u001b[0misinstance\u001b[0m\u001b[0;34m(\u001b[0m\u001b[0mfunc\u001b[0m\u001b[0;34m,\u001b[0m \u001b[0mnp\u001b[0m\u001b[0;34m.\u001b[0m\u001b[0mufunc\u001b[0m\u001b[0;34m)\u001b[0m\u001b[0;34m:\u001b[0m\u001b[0;34m\u001b[0m\u001b[0m\n\u001b[0;32m-> 2158\u001b[0;31m             \u001b[0mf\u001b[0m \u001b[0;34m=\u001b[0m \u001b[0;32mlambda\u001b[0m \u001b[0mx\u001b[0m\u001b[0;34m:\u001b[0m \u001b[0mfunc\u001b[0m\u001b[0;34m(\u001b[0m\u001b[0mx\u001b[0m\u001b[0;34m,\u001b[0m \u001b[0;34m*\u001b[0m\u001b[0margs\u001b[0m\u001b[0;34m,\u001b[0m \u001b[0;34m**\u001b[0m\u001b[0mkwds\u001b[0m\u001b[0;34m)\u001b[0m\u001b[0;34m\u001b[0m\u001b[0m\n\u001b[0m\u001b[1;32m   2159\u001b[0m         \u001b[0;32melse\u001b[0m\u001b[0;34m:\u001b[0m\u001b[0;34m\u001b[0m\u001b[0m\n\u001b[1;32m   2160\u001b[0m             \u001b[0mf\u001b[0m \u001b[0;34m=\u001b[0m \u001b[0mfunc\u001b[0m\u001b[0;34m\u001b[0m\u001b[0m\n",
      "\u001b[0;32m<ipython-input-11-e3e46645ba89>\u001b[0m in \u001b[0;36mpreprocess\u001b[0;34m(data, tokenizingFunction)\u001b[0m\n\u001b[1;32m      3\u001b[0m \u001b[0;34m\u001b[0m\u001b[0m\n\u001b[1;32m      4\u001b[0m \u001b[0;32mdef\u001b[0m \u001b[0mpreprocess\u001b[0m\u001b[0;34m(\u001b[0m\u001b[0mdata\u001b[0m\u001b[0;34m,\u001b[0m \u001b[0mtokenizingFunction\u001b[0m\u001b[0;34m)\u001b[0m\u001b[0;34m:\u001b[0m\u001b[0;34m\u001b[0m\u001b[0m\n\u001b[0;32m----> 5\u001b[0;31m     \u001b[0mtweet\u001b[0m \u001b[0;34m=\u001b[0m \u001b[0mdata\u001b[0m\u001b[0;34m.\u001b[0m\u001b[0mlower\u001b[0m\u001b[0;34m(\u001b[0m\u001b[0;34m)\u001b[0m\u001b[0;34m\u001b[0m\u001b[0m\n\u001b[0m\u001b[1;32m      6\u001b[0m     \u001b[0mtweet\u001b[0m \u001b[0;34m=\u001b[0m \u001b[0mre\u001b[0m\u001b[0;34m.\u001b[0m\u001b[0msub\u001b[0m\u001b[0;34m(\u001b[0m\u001b[0;34mr\"http\\S+\"\u001b[0m\u001b[0;34m,\u001b[0m \u001b[0;34m\" \"\u001b[0m\u001b[0;34m,\u001b[0m \u001b[0mtweet\u001b[0m\u001b[0;34m)\u001b[0m\u001b[0;34m\u001b[0m\u001b[0m\n\u001b[1;32m      7\u001b[0m     \u001b[0mtweet\u001b[0m \u001b[0;34m=\u001b[0m \u001b[0mre\u001b[0m\u001b[0;34m.\u001b[0m\u001b[0msub\u001b[0m\u001b[0;34m(\u001b[0m\u001b[0;34mr\"\\@\\S+\"\u001b[0m\u001b[0;34m,\u001b[0m \u001b[0;34m\" \"\u001b[0m\u001b[0;34m,\u001b[0m \u001b[0mtweet\u001b[0m\u001b[0;34m)\u001b[0m\u001b[0;34m\u001b[0m\u001b[0m\n",
      "\u001b[0;31mAttributeError\u001b[0m: 'list' object has no attribute 'lower'"
     ]
    }
   ],
   "source": [
    "TwoklengthsOfTweets = df[\"tweet\"].apply(preprocess, args=(twokenize.tokenize,)).str.len()"
   ]
  },
  {
   "cell_type": "code",
   "execution_count": 14,
   "metadata": {
    "collapsed": false
   },
   "outputs": [],
   "source": [
    "splitlengthsOfTweets = df[\"tweet\"].apply(preprocess, args=(\"split\",)).str.len()"
   ]
  },
  {
   "cell_type": "code",
   "execution_count": 15,
   "metadata": {
    "collapsed": false
   },
   "outputs": [
    {
     "data": {
      "text/plain": [
       "(146885, 8)"
      ]
     },
     "execution_count": 15,
     "metadata": {},
     "output_type": "execute_result"
    }
   ],
   "source": [
    "print(\"Number of entries that have precise GPS coordinates\")\n",
    "df[df.flag != 2].shape"
   ]
  },
  {
   "cell_type": "code",
   "execution_count": 47,
   "metadata": {
    "collapsed": false
   },
   "outputs": [
    {
     "data": {
      "image/png": "[encoded data removed]",
      "text/plain": [
       "<matplotlib.figure.Figure at 0x1a1ecf9b0>"
      ]
     },
     "metadata": {},
     "output_type": "display_data"
    }
   ],
   "source": [
    "maxi = np.array([lengthsOfTweets.max(), TwoklengthsOfTweets.max(), splitlengthsOfTweets.max()]).max()\n",
    "plt.figure(figsize=(18,5))\n",
    "#NLTK Tokenizer Word length\n",
    "\n",
    "plt.subplot(1, 3, 1)\n",
    "lengthsOfTweets.plot.hist(alpha=0.5, bins=lengthsOfTweets.max())\n",
    "#sns.distplot(lengthsOfTweets)\n",
    "#plt.axis([0, 60, 0, 9000])\n",
    "plt.axis([0, maxi, 0, 200000])\n",
    "plt.title(\"NLTK Tokenizer Word length\")\n",
    "\n",
    "#Twokenize Tokenizer Word length\n",
    "plt.subplot(1, 3, 2)\n",
    "#sns.distplot(TwoklengthsOfTweets)\n",
    "TwoklengthsOfTweets.plot.hist(alpha=0.5, bins=TwoklengthsOfTweets.max())\n",
    "\n",
    "#plt.axis([0, 60, 0, 9000])\n",
    "plt.axis([0, maxi, 0, 200000])\n",
    "plt.title(\"Twokenize Tokenizer Word length\")\n",
    "\n",
    "#String.split Splitter Word length\n",
    "plt.subplot(1, 3, 3)\n",
    "#sns.distplot(splitlengthsOfTweets)\n",
    "\n",
    "\n",
    "splitlengthsOfTweets.plot.hist(alpha=0.5, bins=splitlengthsOfTweets.max())\n",
    "#plt.axis([0, 60, 0, 9000])\n",
    "plt.axis([0, maxi, 0, 200000])\n",
    "\n",
    "plt.title(\"String Split Tokenizer Word length\")\n",
    "plt.savefig(\"Preprocessing_evaluation_without_porter.png\")\n",
    "plt.show()\n"
   ]
  },
  {
   "cell_type": "code",
   "execution_count": 19,
   "metadata": {
    "collapsed": false
   },
   "outputs": [
    {
     "data": {
      "text/plain": [
       "0    3\n",
       "1    2\n",
       "2    9\n",
       "3    2\n",
       "4    6\n",
       "Name: tweet, dtype: int64"
      ]
     },
     "execution_count": 19,
     "metadata": {},
     "output_type": "execute_result"
    }
   ],
   "source": [
    "TwoklengthsOfTweets.head()"
   ]
  },
  {
   "cell_type": "code",
   "execution_count": 21,
   "metadata": {
    "collapsed": false
   },
   "outputs": [
    {
     "name": "stdout",
     "output_type": "stream",
     "text": [
      "0                                     #thedreamhunter is now trending in #London https://t.co/K1m5a2DSnm\n",
      "1                                                                          @connoroneil__ cheers buddy X\n",
      "2                       I love when Del Potro gets behind a forehand. He can just destroy a tennis ball.\n",
      "3                                                         Well this is confusing https://t.co/uouPRGfeYw\n",
      "4       The Vaccines and Stereophonics at Kilmainham @ Royal Hospital Kilmainham https://t.co/vjaRRnDpWW\n",
      "5                                      End of an era at United. Giggs is set to leave. #tearingthemapart\n",
      "6    ++ProToniX radio!⚡️ This weekend, packed with dope segments😁 &amp; music😝 @ London, United Kingd...\n",
      "7                                                       @archiebald06 cost us £30 each more but fuck it!\n",
      "8                                                        @jaydevDevlin it's only a small get together...\n",
      "9                                          @mshgodwin I'm thinking the second option, what do you think?\n",
      "Name: tweet, dtype: object\n",
      " \n",
      "0                                                                 [thedreamhunter, trending, london]\n",
      "1                                                                                    [cheers, buddy]\n",
      "2                                  [love, del, potro, gets, behind, forehand, destroy, tennis, ball]\n",
      "3                                                                                  [well, confusing]\n",
      "4                                 [vaccines, stereophonics, kilmainham, royal, hospital, kilmainham]\n",
      "5                                            [end, era, united, giggs, set, leave, tearingthemapart]\n",
      "6    [++protonix, radio, ⚡️, weekend, packed, dope, segments😁, amp, music😝, london, united, kingdom]\n",
      "7                                                                              [cost, us, £30, fuck]\n",
      "8                                                                    ['s, small, get, together, ...]\n",
      "9                                                              ['m, thinking, second, option, think]\n",
      "Name: tweet, dtype: object\n",
      " \n",
      "0                                                                 [#thedreamhunter, trending, #london]\n",
      "1                                                                                      [cheers, buddy]\n",
      "2                                    [love, del, potro, gets, behind, forehand, destroy, tennis, ball]\n",
      "3                                                                                    [well, confusing]\n",
      "4                                   [vaccines, stereophonics, kilmainham, royal, hospital, kilmainham]\n",
      "5                                             [end, era, united, giggs, set, leave, #tearingthemapart]\n",
      "6    [++protonix, radio, ⚡️, weekend, packed, dope, segments😁, &amp;, music😝, london, united, kingdom]\n",
      "7                                                                                [cost, us, £30, fuck]\n",
      "8                                                                      ['s, small, get, together, ...]\n",
      "9                                                               [i'm, thinking, second, option, think]\n",
      "Name: tweet, dtype: object\n",
      " \n",
      "0                                                                  [#thedreamhunter, trending, #london]\n",
      "1                                                                                       [cheers, buddy]\n",
      "2                                   [love, del, potro, gets, behind, forehand., destroy, tennis, ball.]\n",
      "3                                                                                     [well, confusing]\n",
      "4                                    [vaccines, stereophonics, kilmainham, royal, hospital, kilmainham]\n",
      "5                                            [end, era, united., giggs, set, leave., #tearingthemapart]\n",
      "6    [++protonix, radio!⚡️, weekend,, packed, dope, segments😁, &amp;, music😝, london,, united, kingdom]\n",
      "7                                                                            [cost, us, £30, fuck, it!]\n",
      "8                                                                       [it's, small, get, together...]\n",
      "9                                                              [i'm, thinking, second, option,, think?]\n",
      "Name: tweet, dtype: object\n"
     ]
    }
   ],
   "source": [
    "print(df[\"tweet\"].head(10))\n",
    "print(\" \")\n",
    "print(df[\"tweet\"].head(10).apply(preprocess, args=(word_tokenize,)))\n",
    "print(\" \")\n",
    "print(df[\"tweet\"].head(10).apply(preprocess, args=(twokenize.tokenize,)))\n",
    "print(\" \")\n",
    "print(df[\"tweet\"].head(10).apply(preprocess, args=(\"split\",)))"
   ]
  },
  {
   "cell_type": "code",
   "execution_count": 6,
   "metadata": {
    "collapsed": false
   },
   "outputs": [],
   "source": [
    "df[\"tweet\"] = df[\"tweet\"].apply(preprocess, args=(twokenize.tokenize,))"
   ]
  },
  {
   "cell_type": "code",
   "execution_count": 7,
   "metadata": {
    "collapsed": false
   },
   "outputs": [],
   "source": [
    "df2 = df[(df.tweet.str.len() > 2) ]"
   ]
  },
  {
   "cell_type": "code",
   "execution_count": 8,
   "metadata": {
    "collapsed": false
   },
   "outputs": [
    {
     "name": "stdout",
     "output_type": "stream",
     "text": [
      "0                                                                  [#thedreamhunter, trending, #london]\n",
      "2                                     [love, del, potro, gets, behind, forehand, destroy, tennis, ball]\n",
      "4                                    [vaccines, stereophonics, kilmainham, royal, hospital, kilmainham]\n",
      "5                                              [end, era, united, giggs, set, leave, #tearingthemapart]\n",
      "6     [++protonix, radio, ⚡️, weekend, packed, dope, segments😁, &amp;, music😝, london, united, kingdom]\n",
      "7                                                                                 [cost, us, £30, fuck]\n",
      "8                                                                       ['s, small, get, together, ...]\n",
      "9                                                                [i'm, thinking, second, option, think]\n",
      "10                                               [gove, simply, next, pm, even, tory, 's, don't, trust]\n",
      "11                                                     [word, yet, misquotes, anything, hmmmm, thought]\n",
      "Name: tweet, dtype: object\n"
     ]
    }
   ],
   "source": [
    "print(df2.tweet.head(10))"
   ]
  },
  {
   "cell_type": "code",
   "execution_count": 9,
   "metadata": {
    "collapsed": false
   },
   "outputs": [
    {
     "name": "stdout",
     "output_type": "stream",
     "text": [
      "begin with word2vec\n"
     ]
    }
   ],
   "source": [
    "import gensim, logging\n",
    "logging.basicConfig(format='%(asctime)s : %(levelname)s : %(message)s', level=logging.INFO)\n",
    "    \n",
    "#size of wordembeddings\n",
    "dimensions = 52\n",
    "\n",
    "print(\"begin with word2vec\")\n",
    "\n",
    "model = gensim.models.Word2Vec(alpha=0.025, min_alpha=0.025, workers=4, size=dimensions, sg=0, min_count=2)  # use fixed learning rate\n",
    "model.build_vocab(df2.tweet)\n",
    "for epoch in range(10):\n",
    "    model.train(df2.tweet)\n",
    "    model.alpha -= 0.002  # decrease the learning rate\n",
    "    model.min_alpha = model.alpha  # fix the learning rate, no decay\n",
    "model.save(\"ukmodel.model\")"
   ]
  },
  {
   "cell_type": "code",
   "execution_count": 25,
   "metadata": {
    "collapsed": false
   },
   "outputs": [
    {
     "name": "stdout",
     "output_type": "stream",
     "text": [
      "0.140429593133\n"
     ]
    }
   ],
   "source": [
    "print(model.similarity(\"pretty\", \"beautiful\"))"
   ]
  },
  {
   "cell_type": "code",
   "execution_count": 13,
   "metadata": {
    "collapsed": false
   },
   "outputs": [],
   "source": [
    "import numpy\n",
    "\n",
    "def createPooledTweet(tweet):\n",
    "        itera = 0\n",
    "        maxpooledTweets = np.zeros(dimensions)\n",
    "        for word in tweet:\n",
    "            if word in model: \n",
    "                      \n",
    "                #for k, dimen in enumerate(model[word]):\n",
    "                    #if dimen > maxpooledTweets[i, k]:\n",
    "                        #print(dimen)\n",
    "                    #    maxpooledTweets[i, k] = dimen\n",
    "                    #avg pooling\n",
    "                itera += 1\n",
    "                maxpooledTweets += model[word]\n",
    "        return (maxpooledTweets / itera)\n",
    "   \n",
    "df2.wordEmbeddings = df2.tweet.apply(createPooledTweet)"
   ]
  },
  {
   "cell_type": "code",
   "execution_count": 15,
   "metadata": {
    "collapsed": false
   },
   "outputs": [
    {
     "data": {
      "text/html": [
       "<div>\n",
       "<table border=\"1\" class=\"dataframe\">\n",
       "  <thead>\n",
       "    <tr style=\"text-align: right;\">\n",
       "      <th></th>\n",
       "      <th>User</th>\n",
       "      <th>timestamp_ms</th>\n",
       "      <th>tweet</th>\n",
       "      <th>longitude</th>\n",
       "      <th>latitude</th>\n",
       "      <th>retweet_count</th>\n",
       "      <th>favorite_count</th>\n",
       "      <th>flag</th>\n",
       "    </tr>\n",
       "  </thead>\n",
       "  <tbody>\n",
       "    <tr>\n",
       "      <th>0</th>\n",
       "      <td>123790755</td>\n",
       "      <td>1467376528316</td>\n",
       "      <td>[#thedreamhunter, trending, #london]</td>\n",
       "      <td>-0.163024</td>\n",
       "      <td>51.511755</td>\n",
       "      <td>0</td>\n",
       "      <td>0</td>\n",
       "      <td>2</td>\n",
       "    </tr>\n",
       "    <tr>\n",
       "      <th>2</th>\n",
       "      <td>298585296</td>\n",
       "      <td>1467376529203</td>\n",
       "      <td>[love, del, potro, gets, behind, forehand, destroy, tennis, ball]</td>\n",
       "      <td>-2.298134</td>\n",
       "      <td>52.847090</td>\n",
       "      <td>0</td>\n",
       "      <td>0</td>\n",
       "      <td>2</td>\n",
       "    </tr>\n",
       "    <tr>\n",
       "      <th>4</th>\n",
       "      <td>27009134</td>\n",
       "      <td>1467376529303</td>\n",
       "      <td>[vaccines, stereophonics, kilmainham, royal, hospital, kilmainham]</td>\n",
       "      <td>-6.300177</td>\n",
       "      <td>53.343303</td>\n",
       "      <td>0</td>\n",
       "      <td>0</td>\n",
       "      <td>1</td>\n",
       "    </tr>\n",
       "    <tr>\n",
       "      <th>5</th>\n",
       "      <td>49985646</td>\n",
       "      <td>1467376529400</td>\n",
       "      <td>[end, era, united, giggs, set, leave, #tearingthemapart]</td>\n",
       "      <td>-3.143354</td>\n",
       "      <td>51.669456</td>\n",
       "      <td>0</td>\n",
       "      <td>0</td>\n",
       "      <td>2</td>\n",
       "    </tr>\n",
       "    <tr>\n",
       "      <th>6</th>\n",
       "      <td>4658015859</td>\n",
       "      <td>1467376529390</td>\n",
       "      <td>[++protonix, radio, ⚡️, weekend, packed, dope, segments😁, &amp;amp;, music😝, london, united, kingdom]</td>\n",
       "      <td>-0.127318</td>\n",
       "      <td>51.507115</td>\n",
       "      <td>0</td>\n",
       "      <td>0</td>\n",
       "      <td>1</td>\n",
       "    </tr>\n",
       "  </tbody>\n",
       "</table>\n",
       "</div>"
      ],
      "text/plain": [
       "         User   timestamp_ms  \\\n",
       "0   123790755  1467376528316   \n",
       "2   298585296  1467376529203   \n",
       "4    27009134  1467376529303   \n",
       "5    49985646  1467376529400   \n",
       "6  4658015859  1467376529390   \n",
       "\n",
       "                                                                                               tweet  \\\n",
       "0                                                               [#thedreamhunter, trending, #london]   \n",
       "2                                  [love, del, potro, gets, behind, forehand, destroy, tennis, ball]   \n",
       "4                                 [vaccines, stereophonics, kilmainham, royal, hospital, kilmainham]   \n",
       "5                                           [end, era, united, giggs, set, leave, #tearingthemapart]   \n",
       "6  [++protonix, radio, ⚡️, weekend, packed, dope, segments😁, &amp;, music😝, london, united, kingdom]   \n",
       "\n",
       "   longitude   latitude  retweet_count  favorite_count  flag  \n",
       "0  -0.163024  51.511755              0               0     2  \n",
       "2  -2.298134  52.847090              0               0     2  \n",
       "4  -6.300177  53.343303              0               0     1  \n",
       "5  -3.143354  51.669456              0               0     2  \n",
       "6  -0.127318  51.507115              0               0     1  "
      ]
     },
     "execution_count": 15,
     "metadata": {},
     "output_type": "execute_result"
    }
   ],
   "source": [
    "#df2.reset_index(level=0, inplace=True)\n",
    "df2.head()"
   ]
  },
  {
   "cell_type": "code",
   "execution_count": 16,
   "metadata": {
    "collapsed": false
   },
   "outputs": [
    {
     "name": "stderr",
     "output_type": "stream",
     "text": [
      "/Users/fabian/anaconda/envs/py35/lib/python3.5/site-packages/ipykernel/__main__.py:4: SettingWithCopyWarning: \n",
      "A value is trying to be set on a copy of a slice from a DataFrame.\n",
      "Try using .loc[row_indexer,col_indexer] = value instead\n",
      "\n",
      "See the caveats in the documentation: http://pandas.pydata.org/pandas-docs/stable/indexing.html#indexing-view-versus-copy\n"
     ]
    }
   ],
   "source": [
    "from datetime import datetime, date\n",
    "\n",
    "try:\n",
    "    df2[\"timestamp_ms\"] = df2.timestamp_ms.apply(lambda x: datetime.fromtimestamp(int(x) // 1000))\n",
    "    pd.to_datetime(df2.timestamp_ms)\n",
    "    df2 = df2.set_index(['timestamp_ms'])\n",
    "    df2.index\n",
    "except:\n",
    "    print(\"Data was already converted\")\n"
   ]
  },
  {
   "cell_type": "code",
   "execution_count": 17,
   "metadata": {
    "collapsed": false
   },
   "outputs": [],
   "source": [
    "#df2[\"timestamp_ms\"] = df2.timestamp_ms.astype('datetime64[ns]')\n",
    "#df2[\"TimeReviewed\"] = pd.to_datetime(df2[\"timestamp_ms\"])\n",
    "\n",
    "#split by day\n",
    "groupedByDay = [group[1] for group in df2.groupby([df2.index.year,df2.index.month,df2.index.day])]"
   ]
  },
  {
   "cell_type": "code",
   "execution_count": null,
   "metadata": {
    "collapsed": true
   },
   "outputs": [],
   "source": [
    "#custom distance function ftw\n",
    "from geopy.distance import great_circle\n",
    "from scipy.spatial.distance import cosine, euclidean\n",
    "\n",
    "#0 is lat, 1 is long, 3 is time, 4 to end is word embedding\n",
    "def d(a,b):\n",
    "    cos = cosine(a[4:], b[4:])\n",
    "    euc = euclidean(a[3:], b[3:])\n",
    "    vinc = (float(vincenty((a[0], a[1]), (b[0], b[1])).km))\n",
    "\n",
    "    #print(\"text:\" + str(cos))\n",
    "    #print(\"time:\" + str(euc))\n",
    "    #print(\"spatial:\"+ str(vinc))\n",
    "return cos*5 + euc + vinc*0.01"
   ]
  },
  {
   "cell_type": "code",
   "execution_count": 19,
   "metadata": {
    "collapsed": false
   },
   "outputs": [
    {
     "name": "stdout",
     "output_type": "stream",
     "text": [
      "Show clusters on map ...\n",
      "start calculating\n",
      "[ True  True False  True  True  True False False  True  True  True  True\n",
      "  True  True  True False False  True  True  True  True False False False\n",
      "  True  True  True  True  True  True  True False False  True  True False\n",
      "  True  True  True  True  True False  True  True  True  True  True  True\n",
      "  True  True  True False  True  True  True False  True  True  True  True\n",
      "  True  True False  True  True  True  True  True False  True  True  True\n",
      "  True  True  True False  True  True  True  True False  True  True  True\n",
      " False  True False  True  True  True False  True  True  True  True  True\n",
      "  True  True  True  True  True  True  True False False False False  True\n",
      " False  True False  True False  True  True False  True  True  True  True\n",
      "  True False  True  True  True  True  True  True  True  True  True  True\n",
      "  True  True False  True False False  True False  True  True False  True\n",
      "  True  True  True  True  True  True  True  True  True  True False  True\n",
      "  True  True  True False False  True  True False  True  True False False\n",
      "  True  True  True  True  True  True  True False False  True  True  True\n",
      "  True  True  True  True  True  True  True  True False False  True  True\n",
      "  True  True  True False False False  True  True  True  True  True  True\n",
      "  True  True  True False  True  True  True  True  True False False  True\n",
      " False  True  True False  True  True  True  True False False  True  True\n",
      "  True False  True  True  True  True False False False False  True False\n",
      "  True  True False False  True  True False  True False  True  True  True\n",
      " False  True  True  True  True  True  True False False  True  True  True\n",
      "  True  True False False False  True  True  True  True  True  True  True\n",
      "  True  True False  True  True  True False  True  True  True  True  True\n",
      "  True  True  True  True False False  True False False  True  True  True\n",
      " False False  True  True  True False  True  True  True  True  True False\n",
      "  True  True  True  True  True False  True  True  True  True  True False\n",
      "  True False  True  True  True  True  True  True  True  True  True  True\n",
      "  True  True False False  True  True False  True  True False False  True\n",
      " False  True  True False  True  True  True  True False  True  True False\n",
      " False  True  True  True False  True  True  True  True False  True  True\n",
      "  True  True False False  True  True  True  True  True  True  True  True\n",
      " False  True  True  True  True  True  True  True False False  True  True\n",
      "  True  True False  True  True False  True  True  True  True  True  True\n",
      " False  True  True  True False  True  True False  True  True False  True\n",
      "  True  True  True  True False  True  True False False  True  True  True\n",
      "  True  True  True False  True False  True  True  True  True  True False\n",
      "  True  True False False  True  True False False  True  True False False\n",
      " False  True  True  True  True  True False  True  True False  True  True\n",
      "  True False  True  True  True  True False  True  True False False  True\n",
      " False  True  True False  True  True  True  True  True  True  True False\n",
      "  True  True  True  True  True  True  True  True]\n"
     ]
    },
    {
     "ename": "SystemError",
     "evalue": "<class 'RuntimeError'> returned a result with an error set",
     "output_type": "error",
     "traceback": [
      "\u001b[0;31m---------------------------------------------------------------------------\u001b[0m",
      "\u001b[0;31mTypeError\u001b[0m                                 Traceback (most recent call last)",
      "\u001b[0;31mTypeError\u001b[0m: expected a writable bytes-like object",
      "\nDuring handling of the above exception, another exception occurred:\n",
      "\u001b[0;31mSystemError\u001b[0m                               Traceback (most recent call last)",
      "\u001b[0;32m<ipython-input-19-a78465784a1f>\u001b[0m in \u001b[0;36m<module>\u001b[0;34m()\u001b[0m\n\u001b[1;32m     59\u001b[0m         \u001b[0mnumOfDistinctUsers\u001b[0m \u001b[0;34m=\u001b[0m \u001b[0mlen\u001b[0m\u001b[0;34m(\u001b[0m\u001b[0mset\u001b[0m\u001b[0;34m(\u001b[0m\u001b[0mdf2\u001b[0m\u001b[0;34m.\u001b[0m\u001b[0mUser\u001b[0m\u001b[0;34m[\u001b[0m\u001b[0mclass_member_mask\u001b[0m\u001b[0;34m]\u001b[0m\u001b[0;34m)\u001b[0m\u001b[0;34m)\u001b[0m\u001b[0;34m\u001b[0m\u001b[0m\n\u001b[1;32m     60\u001b[0m \u001b[0;34m\u001b[0m\u001b[0m\n\u001b[0;32m---> 61\u001b[0;31m         \u001b[0mx1\u001b[0m\u001b[0;34m,\u001b[0m \u001b[0my1\u001b[0m \u001b[0;34m=\u001b[0m \u001b[0mm\u001b[0m\u001b[0;34m(\u001b[0m\u001b[0mdf2\u001b[0m\u001b[0;34m.\u001b[0m\u001b[0mhead\u001b[0m\u001b[0;34m(\u001b[0m\u001b[0mfirstN\u001b[0m\u001b[0;34m)\u001b[0m\u001b[0;34m.\u001b[0m\u001b[0mlongitude\u001b[0m\u001b[0;34m[\u001b[0m\u001b[0mclass_member_mask\u001b[0m\u001b[0;34m]\u001b[0m\u001b[0;34m,\u001b[0m \u001b[0mdf2\u001b[0m\u001b[0;34m.\u001b[0m\u001b[0mhead\u001b[0m\u001b[0;34m(\u001b[0m\u001b[0mfirstN\u001b[0m\u001b[0;34m)\u001b[0m\u001b[0;34m.\u001b[0m\u001b[0mlatitude\u001b[0m\u001b[0;34m[\u001b[0m\u001b[0mclass_member_mask\u001b[0m\u001b[0;34m]\u001b[0m\u001b[0;34m)\u001b[0m\u001b[0;34m\u001b[0m\u001b[0m\n\u001b[0m\u001b[1;32m     62\u001b[0m         \u001b[0;32mif\u001b[0m \u001b[0mk\u001b[0m \u001b[0;34m==\u001b[0m \u001b[0;34m-\u001b[0m\u001b[0;36m1\u001b[0m \u001b[0;32mor\u001b[0m \u001b[0mnumOfDistinctUsers\u001b[0m \u001b[0;34m<\u001b[0m \u001b[0;36m2\u001b[0m\u001b[0;34m:\u001b[0m\u001b[0;34m\u001b[0m\u001b[0m\n\u001b[1;32m     63\u001b[0m             \u001b[0;32mpass\u001b[0m\u001b[0;34m\u001b[0m\u001b[0m\n",
      "\u001b[0;32m/Users/fabian/anaconda/envs/py35/lib/python3.5/site-packages/mpl_toolkits/basemap/__init__.py\u001b[0m in \u001b[0;36m__call__\u001b[0;34m(self, x, y, inverse)\u001b[0m\n\u001b[1;32m   1146\u001b[0m             \u001b[0;32mexcept\u001b[0m \u001b[0mTypeError\u001b[0m\u001b[0;34m:\u001b[0m\u001b[0;34m\u001b[0m\u001b[0m\n\u001b[1;32m   1147\u001b[0m                 \u001b[0my\u001b[0m \u001b[0;34m=\u001b[0m \u001b[0;34m[\u001b[0m\u001b[0m_dg2rad\u001b[0m\u001b[0;34m*\u001b[0m\u001b[0myy\u001b[0m \u001b[0;32mfor\u001b[0m \u001b[0myy\u001b[0m \u001b[0;32min\u001b[0m \u001b[0my\u001b[0m\u001b[0;34m]\u001b[0m\u001b[0;34m\u001b[0m\u001b[0m\n\u001b[0;32m-> 1148\u001b[0;31m         \u001b[0mxout\u001b[0m\u001b[0;34m,\u001b[0m\u001b[0myout\u001b[0m \u001b[0;34m=\u001b[0m \u001b[0mself\u001b[0m\u001b[0;34m.\u001b[0m\u001b[0mprojtran\u001b[0m\u001b[0;34m(\u001b[0m\u001b[0mx\u001b[0m\u001b[0;34m,\u001b[0m\u001b[0my\u001b[0m\u001b[0;34m,\u001b[0m\u001b[0minverse\u001b[0m\u001b[0;34m=\u001b[0m\u001b[0minverse\u001b[0m\u001b[0;34m)\u001b[0m\u001b[0;34m\u001b[0m\u001b[0m\n\u001b[0m\u001b[1;32m   1149\u001b[0m         \u001b[0;32mif\u001b[0m \u001b[0mself\u001b[0m\u001b[0;34m.\u001b[0m\u001b[0mcelestial\u001b[0m \u001b[0;32mand\u001b[0m \u001b[0minverse\u001b[0m\u001b[0;34m:\u001b[0m\u001b[0;34m\u001b[0m\u001b[0m\n\u001b[1;32m   1150\u001b[0m             \u001b[0;32mtry\u001b[0m\u001b[0;34m:\u001b[0m\u001b[0;34m\u001b[0m\u001b[0m\n",
      "\u001b[0;32m/Users/fabian/anaconda/envs/py35/lib/python3.5/site-packages/mpl_toolkits/basemap/proj.py\u001b[0m in \u001b[0;36m__call__\u001b[0;34m(self, *args, **kw)\u001b[0m\n\u001b[1;32m    284\u001b[0m             \u001b[0moutxy\u001b[0m \u001b[0;34m=\u001b[0m \u001b[0mself\u001b[0m\u001b[0;34m.\u001b[0m\u001b[0m_proj4\u001b[0m\u001b[0;34m(\u001b[0m\u001b[0mxy\u001b[0m\u001b[0;34m,\u001b[0m \u001b[0minverse\u001b[0m\u001b[0;34m=\u001b[0m\u001b[0minverse\u001b[0m\u001b[0;34m)\u001b[0m\u001b[0;34m\u001b[0m\u001b[0m\n\u001b[1;32m    285\u001b[0m         \u001b[0;32melse\u001b[0m\u001b[0;34m:\u001b[0m\u001b[0;34m\u001b[0m\u001b[0m\n\u001b[0;32m--> 286\u001b[0;31m             \u001b[0moutx\u001b[0m\u001b[0;34m,\u001b[0m\u001b[0mouty\u001b[0m \u001b[0;34m=\u001b[0m \u001b[0mself\u001b[0m\u001b[0;34m.\u001b[0m\u001b[0m_proj4\u001b[0m\u001b[0;34m(\u001b[0m\u001b[0mx\u001b[0m\u001b[0;34m,\u001b[0m \u001b[0my\u001b[0m\u001b[0;34m,\u001b[0m \u001b[0minverse\u001b[0m\u001b[0;34m=\u001b[0m\u001b[0minverse\u001b[0m\u001b[0;34m)\u001b[0m\u001b[0;34m\u001b[0m\u001b[0m\n\u001b[0m\u001b[1;32m    287\u001b[0m         \u001b[0;32mif\u001b[0m \u001b[0minverse\u001b[0m\u001b[0;34m:\u001b[0m\u001b[0;34m\u001b[0m\u001b[0m\n\u001b[1;32m    288\u001b[0m             \u001b[0;32mif\u001b[0m \u001b[0mself\u001b[0m\u001b[0;34m.\u001b[0m\u001b[0mprojection\u001b[0m \u001b[0;32min\u001b[0m \u001b[0;34m[\u001b[0m\u001b[0;34m'merc'\u001b[0m\u001b[0;34m,\u001b[0m\u001b[0;34m'mill'\u001b[0m\u001b[0;34m,\u001b[0m\u001b[0;34m'gall'\u001b[0m\u001b[0;34m]\u001b[0m\u001b[0;34m:\u001b[0m\u001b[0;34m\u001b[0m\u001b[0m\n",
      "\u001b[0;32m/Users/fabian/anaconda/envs/py35/lib/python3.5/site-packages/mpl_toolkits/basemap/pyproj.py\u001b[0m in \u001b[0;36m__call__\u001b[0;34m(self, *args, **kw)\u001b[0m\n\u001b[1;32m    386\u001b[0m             \u001b[0m_proj\u001b[0m\u001b[0;34m.\u001b[0m\u001b[0mProj\u001b[0m\u001b[0;34m.\u001b[0m\u001b[0m_inv\u001b[0m\u001b[0;34m(\u001b[0m\u001b[0mself\u001b[0m\u001b[0;34m,\u001b[0m \u001b[0minx\u001b[0m\u001b[0;34m,\u001b[0m \u001b[0miny\u001b[0m\u001b[0;34m,\u001b[0m \u001b[0mradians\u001b[0m\u001b[0;34m=\u001b[0m\u001b[0mradians\u001b[0m\u001b[0;34m,\u001b[0m \u001b[0merrcheck\u001b[0m\u001b[0;34m=\u001b[0m\u001b[0merrcheck\u001b[0m\u001b[0;34m)\u001b[0m\u001b[0;34m\u001b[0m\u001b[0m\n\u001b[1;32m    387\u001b[0m         \u001b[0;32melse\u001b[0m\u001b[0;34m:\u001b[0m\u001b[0;34m\u001b[0m\u001b[0m\n\u001b[0;32m--> 388\u001b[0;31m             \u001b[0m_proj\u001b[0m\u001b[0;34m.\u001b[0m\u001b[0mProj\u001b[0m\u001b[0;34m.\u001b[0m\u001b[0m_fwd\u001b[0m\u001b[0;34m(\u001b[0m\u001b[0mself\u001b[0m\u001b[0;34m,\u001b[0m \u001b[0minx\u001b[0m\u001b[0;34m,\u001b[0m \u001b[0miny\u001b[0m\u001b[0;34m,\u001b[0m \u001b[0mradians\u001b[0m\u001b[0;34m=\u001b[0m\u001b[0mradians\u001b[0m\u001b[0;34m,\u001b[0m \u001b[0merrcheck\u001b[0m\u001b[0;34m=\u001b[0m\u001b[0merrcheck\u001b[0m\u001b[0;34m)\u001b[0m\u001b[0;34m\u001b[0m\u001b[0m\n\u001b[0m\u001b[1;32m    389\u001b[0m         \u001b[0;31m# if inputs were lists, tuples or floats, convert back.\u001b[0m\u001b[0;34m\u001b[0m\u001b[0;34m\u001b[0m\u001b[0m\n\u001b[1;32m    390\u001b[0m         \u001b[0moutx\u001b[0m \u001b[0;34m=\u001b[0m \u001b[0m_convertback\u001b[0m\u001b[0;34m(\u001b[0m\u001b[0mxisfloat\u001b[0m\u001b[0;34m,\u001b[0m\u001b[0mxislist\u001b[0m\u001b[0;34m,\u001b[0m\u001b[0mxistuple\u001b[0m\u001b[0;34m,\u001b[0m\u001b[0minx\u001b[0m\u001b[0;34m)\u001b[0m\u001b[0;34m\u001b[0m\u001b[0m\n",
      "\u001b[0;32m_proj.pyx\u001b[0m in \u001b[0;36m_proj.Proj._fwd (src/_proj.c:1571)\u001b[0;34m()\u001b[0m\n",
      "\u001b[0;31mSystemError\u001b[0m: <class 'RuntimeError'> returned a result with an error set"
     ]
    },
    {
     "data": {
      "image/png": "[encoded data removed]",
      "text/plain": [
       "<matplotlib.figure.Figure at 0x17cfc6400>"
      ]
     },
     "metadata": {},
     "output_type": "display_data"
    }
   ],
   "source": [
    "from sklearn.cluster import DBSCAN\n",
    "from scipy.spatial.distance import cosine, euclidean\n",
    "import time\n",
    "from mpl_toolkits.basemap import Basemap\n",
    "import matplotlib.cm as cm\n",
    "\n",
    "for dailyTweets in groupedByDay:\n",
    "    start = time.time()\n",
    "    \n",
    "    firstN = 500\n",
    "    columns = [\"longitude\", \"latitude\"]\n",
    "    features = dailyTweets[list(columns)].head(firstN).values\n",
    "    \n",
    "    #run DBSCAN on coordinates using euclidean distance \n",
    "    dbmodel = DBSCAN(eps=0.5, min_samples=5, metric=\"euclidean\", algorithm='ball_tree')\n",
    "    db = dbmodel.fit(features)\n",
    "    end = time.time()\n",
    "    \n",
    "    #masking\n",
    "    core_samples_mask = np.zeros_like(db.labels_, dtype=bool)\n",
    "    labels = db.labels_\n",
    "    n_clusters_ = len(np.unique(db.labels_)) -1\n",
    "    \n",
    "    unique_labels = set(labels)\n",
    "    colors = plt.cm.Spectral(np.linspace(0, 1, len(unique_labels)))\n",
    "    \n",
    "    ####map config\n",
    "    #TODO: Zoom in to each cluster on the map if possible\n",
    "    bbox = {\n",
    "        'll_lon': -10.65073,\n",
    "        'll_lat': 49.16209,\n",
    "        'ur_lon': 1.76334,\n",
    "        'ur_lat': 60.860699\n",
    "    }\n",
    "\n",
    "    print(\"Show clusters on map ...\")\n",
    "    m = Basemap(\n",
    "        projection='merc', resolution=\"l\",\n",
    "        llcrnrlon=bbox['ll_lon'], llcrnrlat=bbox['ll_lat'],\n",
    "        urcrnrlon=bbox['ur_lon'], urcrnrlat=bbox['ur_lat'])\n",
    "    m.drawcoastlines()#\n",
    "    m.fillcontinents(color='gray', lake_color='aqua',zorder=5)\n",
    "\n",
    "    m.drawmapboundary(fill_color='aqua')\n",
    "    ####end map config\n",
    "\n",
    "    clusterLabels = db.labels_\n",
    "    print(\"start calculating\")\n",
    "\n",
    "    for k, col in zip(unique_labels, colors):\n",
    "\n",
    "        if k == -1:\n",
    "            # Black used for noise.\n",
    "            col = 'k'\n",
    "        class_member_mask = (labels == k)\n",
    "        #print(k)\n",
    "        print(class_member_mask)\n",
    "\n",
    "        numOfDistinctUsers = len(set(df2.User[class_member_mask]))\n",
    "\n",
    "        x1, y1 = m(df2.head(firstN).longitude[class_member_mask], df2.head(firstN).latitude[class_member_mask])\n",
    "        if k == -1 or numOfDistinctUsers < 2:\n",
    "            pass\n",
    "                #m.scatter(x1, y1, s=4, marker=\"o\", c=col, alpha=0.5, zorder=10)\n",
    "        else:\n",
    "\n",
    "            #plot k to map at position \n",
    "            wordsOfCluster = []\n",
    "            tweetsOfCluster = []\n",
    "            xtxt = 0\n",
    "            ytxt = 0\n",
    "\n",
    "            for i, label in enumerate(clusterLabels):\n",
    "\n",
    "                if label == k:\n",
    "                    #das ist der tweet\n",
    "                    #print(' '.join(tweets[i]))\n",
    "                    tweetsOfCluster.append(' '.join(tweets[i]))\n",
    "                    if xtxt == 0 and ytxt == 0:\n",
    "                        xtxt, ytxt = m(dat[i,0], dat[i,1])\n",
    "                    for word in tweets[i]:\n",
    "                        wordsOfCluster.append(word)\n",
    "\n",
    "            #evaluate clusters\n",
    "            wfcnt = Counter(wordsOfCluster)\n",
    "\n",
    "            if wfcnt.most_common()[0][1]/len(x1) > 0.1:\n",
    "\n",
    "                print(str(n_clusters_) + \". Cluster, with \" + str(xy.shape[0]) + \" tweets, \" + str(numOfDistinctUsers) + \" distinct users, \" +\n",
    "                    \"the most freq. words are:\")\n",
    "\n",
    "                print(wfcnt.most_common()[0:15])\n",
    "\n",
    "\n",
    "                #plot points\n",
    "                m.scatter(x1, y1, s=50, marker=\"o\", c=col, alpha=1, zorder=10)\n",
    "\n",
    "                #print cluster numbers on plot      \n",
    "                plt.text(xtxt, ytxt, str(k), fontsize=12,fontweight='bold',\n",
    "                        ha='left',va='bottom',color='k', zorder=15)\n",
    "\n",
    "                print(tweetsOfCluster)\n",
    "                print(\" ------------- \")\n",
    "                print(\" \")\n",
    "                n_clusters_ += 1\n",
    "\n",
    "    plt.title(\"Clustered tweets from GB %d\" % n_clusters_)\n",
    "    plt.savefig(time.strftime(\"plots/test-%h-%m-%s-%d-%m-%Y.png\"))\n",
    "    plt.show()\n",
    "    \n",
    "    #dailyTweets\n",
    "    print(str(dailyTweets.index.day[0]) + \" Day Clustered. The passed time is: \" + str(end-start))\n",
    "    break"
   ]
  },
  {
   "cell_type": "markdown",
   "metadata": {},
   "source": [
    "# This section needs to be refined so that for each day a topic map is created"
   ]
  },
  {
   "cell_type": "code",
   "execution_count": 140,
   "metadata": {
    "collapsed": false
   },
   "outputs": [
    {
     "name": "stdout",
     "output_type": "stream",
     "text": [
      "Show clusters on map ...\n",
      "start calculating\n",
      "[ True  True]\n"
     ]
    },
    {
     "data": {
      "image/png": "[encoded data removed]",
      "text/plain": [
       "<matplotlib.figure.Figure at 0x1f2b72320>"
      ]
     },
     "metadata": {},
     "output_type": "display_data"
    }
   ],
   "source": []
  },
  {
   "cell_type": "code",
   "execution_count": null,
   "metadata": {
    "collapsed": true
   },
   "outputs": [],
   "source": []
  }
 ],
 "metadata": {
  "kernelspec": {
   "display_name": "Python 3",
   "language": "python",
   "name": "python3"
  },
  "language_info": {
   "codemirror_mode": {
    "name": "ipython",
    "version": 3
   },
   "file_extension": ".py",
   "mimetype": "text/x-python",
   "name": "python",
   "nbconvert_exporter": "python",
   "pygments_lexer": "ipython3",
   "version": "3.5.1"
  }
 },
 "nbformat": 4,
 "nbformat_minor": 0
}
